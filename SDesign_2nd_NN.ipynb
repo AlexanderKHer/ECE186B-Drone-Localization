{
 "cells": [
  {
   "cell_type": "code",
   "execution_count": 1,
   "metadata": {},
   "outputs": [],
   "source": [
    "import torch\n",
    "import torch.nn as nn\n",
    "import torch.nn.functional as F\n",
    "import torch.optim as optim\n",
    "from torchsummary import summary"
   ]
  },
  {
   "cell_type": "code",
   "execution_count": 2,
   "metadata": {},
   "outputs": [
    {
     "name": "stdout",
     "output_type": "stream",
     "text": [
      "----------------------------------------------------------------\n",
      "        Layer (type)               Output Shape         Param #\n",
      "================================================================\n",
      "            Linear-1                 [-1, 1, 3]               9\n",
      "            Linear-2                 [-1, 1, 3]              12\n",
      "            Linear-3                 [-1, 1, 2]               8\n",
      "================================================================\n",
      "Total params: 29\n",
      "Trainable params: 29\n",
      "Non-trainable params: 0\n",
      "----------------------------------------------------------------\n",
      "Input size (MB): 0.00\n",
      "Forward/backward pass size (MB): 0.00\n",
      "Params size (MB): 0.00\n",
      "Estimated Total Size (MB): 0.00\n",
      "----------------------------------------------------------------\n"
     ]
    }
   ],
   "source": [
    "class Net(nn.Module):\n",
    "    def __init__(self):\n",
    "        super().__init__()\n",
    "        self.fc1 = nn.Linear(2, 3)\n",
    "        self.fc2 = nn.Linear(3, 3)\n",
    "        self.fc3 = nn.Linear(3, 2)\n",
    "\n",
    "    def forward(self, x):\n",
    "        x = self.fc1(x)\n",
    "        x = self.fc2(x)\n",
    "        x = self.fc3(x)\n",
    "        return x\n",
    "\n",
    "net = Net()\n",
    "device = torch.device(\"cuda\") \n",
    "net = Net().to(device)\n",
    "summary(net, input_size = (1,2))\n",
    "#print(net)\n",
    "\n",
    "loss_function = nn.MSELoss()\n",
    "optimizer = optim.Adam(net.parameters(), lr=0.001)"
   ]
  },
  {
   "cell_type": "code",
   "execution_count": 4,
   "metadata": {},
   "outputs": [
    {
     "name": "stdout",
     "output_type": "stream",
     "text": [
      "(tensor([[0.9672, 0.7845],\n",
      "        [0.7398, 0.3132]], device='cuda:0'), tensor([[0.2613, 0.1573],\n",
      "        [0.9759, 0.0681]], device='cuda:0'))\n"
     ]
    }
   ],
   "source": [
    "#dummy data\n",
    "trainset = (torch.rand(2,2, device=\"cuda\"), torch.rand(2,2, device=\"cuda\")) #Xs and Ys\n",
    "print(trainset)"
   ]
  },
  {
   "cell_type": "code",
   "execution_count": 6,
   "metadata": {},
   "outputs": [
    {
     "name": "stdout",
     "output_type": "stream",
     "text": [
      "tensor(0.9862, device='cuda:0', grad_fn=<MseLossBackward>)\n",
      "tensor(0.9717, device='cuda:0', grad_fn=<MseLossBackward>)\n",
      "tensor(0.9573, device='cuda:0', grad_fn=<MseLossBackward>)\n",
      "tensor(0.9432, device='cuda:0', grad_fn=<MseLossBackward>)\n",
      "tensor(0.9294, device='cuda:0', grad_fn=<MseLossBackward>)\n",
      "tensor(0.9159, device='cuda:0', grad_fn=<MseLossBackward>)\n",
      "tensor(0.9027, device='cuda:0', grad_fn=<MseLossBackward>)\n",
      "tensor(0.8896, device='cuda:0', grad_fn=<MseLossBackward>)\n",
      "tensor(0.8767, device='cuda:0', grad_fn=<MseLossBackward>)\n",
      "tensor(0.8643, device='cuda:0', grad_fn=<MseLossBackward>)\n",
      "tensor(0.8518, device='cuda:0', grad_fn=<MseLossBackward>)\n",
      "tensor(0.8398, device='cuda:0', grad_fn=<MseLossBackward>)\n",
      "tensor(0.8281, device='cuda:0', grad_fn=<MseLossBackward>)\n",
      "tensor(0.8165, device='cuda:0', grad_fn=<MseLossBackward>)\n",
      "tensor(0.8048, device='cuda:0', grad_fn=<MseLossBackward>)\n",
      "tensor(0.7938, device='cuda:0', grad_fn=<MseLossBackward>)\n",
      "tensor(0.7825, device='cuda:0', grad_fn=<MseLossBackward>)\n",
      "tensor(0.7715, device='cuda:0', grad_fn=<MseLossBackward>)\n",
      "tensor(0.7609, device='cuda:0', grad_fn=<MseLossBackward>)\n",
      "tensor(0.7503, device='cuda:0', grad_fn=<MseLossBackward>)\n",
      "tensor(0.7399, device='cuda:0', grad_fn=<MseLossBackward>)\n",
      "tensor(0.7295, device='cuda:0', grad_fn=<MseLossBackward>)\n",
      "tensor(0.7193, device='cuda:0', grad_fn=<MseLossBackward>)\n",
      "tensor(0.7093, device='cuda:0', grad_fn=<MseLossBackward>)\n",
      "tensor(0.6994, device='cuda:0', grad_fn=<MseLossBackward>)\n",
      "tensor(0.6897, device='cuda:0', grad_fn=<MseLossBackward>)\n",
      "tensor(0.6800, device='cuda:0', grad_fn=<MseLossBackward>)\n",
      "tensor(0.6704, device='cuda:0', grad_fn=<MseLossBackward>)\n",
      "tensor(0.6612, device='cuda:0', grad_fn=<MseLossBackward>)\n",
      "tensor(0.6518, device='cuda:0', grad_fn=<MseLossBackward>)\n"
     ]
    }
   ],
   "source": [
    "train = True\n",
    "epochs = 15\n",
    "if (train):\n",
    "    net.train()\n",
    "    for epoch in range(epochs):\n",
    "        for data in trainset:  \n",
    "            feature, data_label = data #\n",
    "            #print(data)\n",
    "            #print(feature)\n",
    "            #print(data_label)\n",
    "            net.zero_grad()  \n",
    "            output = net(feature.view(-1,2))\n",
    "            loss = loss_function(output, data_label) \n",
    "            loss.backward() \n",
    "            optimizer.step() \n",
    "        print(loss)\n"
   ]
  }
 ],
 "metadata": {
  "interpreter": {
   "hash": "58dc188af903f85495c8c8ba2d08d4f5901f4034aea6d9dbb2f8641074b88212"
  },
  "kernelspec": {
   "display_name": "Python 3.9.6 64-bit ('191T_py3': venv)",
   "name": "python3"
  },
  "language_info": {
   "codemirror_mode": {
    "name": "ipython",
    "version": 3
   },
   "file_extension": ".py",
   "mimetype": "text/x-python",
   "name": "python",
   "nbconvert_exporter": "python",
   "pygments_lexer": "ipython3",
   "version": "3.9.6"
  },
  "orig_nbformat": 4
 },
 "nbformat": 4,
 "nbformat_minor": 2
}

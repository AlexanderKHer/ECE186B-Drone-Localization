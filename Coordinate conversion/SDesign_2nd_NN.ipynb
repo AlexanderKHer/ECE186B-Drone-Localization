{
 "cells": [
  {
   "cell_type": "code",
   "execution_count": 6,
   "metadata": {},
   "outputs": [],
   "source": [
    "import torch\n",
    "import torch.nn as nn\n",
    "import torch.nn.functional as F\n",
    "import torch.optim as optim\n",
    "from torchsummary import summary"
   ]
  },
  {
   "cell_type": "code",
   "execution_count": 7,
   "metadata": {},
   "outputs": [
    {
     "name": "stdout",
     "output_type": "stream",
     "text": [
      "----------------------------------------------------------------\n",
      "        Layer (type)               Output Shape         Param #\n",
      "================================================================\n",
      "            Linear-1                 [-1, 1, 3]               9\n",
      "            Linear-2                 [-1, 1, 3]              12\n",
      "            Linear-3                 [-1, 1, 2]               8\n",
      "================================================================\n",
      "Total params: 29\n",
      "Trainable params: 29\n",
      "Non-trainable params: 0\n",
      "----------------------------------------------------------------\n",
      "Input size (MB): 0.00\n",
      "Forward/backward pass size (MB): 0.00\n",
      "Params size (MB): 0.00\n",
      "Estimated Total Size (MB): 0.00\n",
      "----------------------------------------------------------------\n"
     ]
    }
   ],
   "source": [
    "class Net(nn.Module):\n",
    "    def __init__(self):\n",
    "        super().__init__()\n",
    "        self.fc1 = nn.Linear(2, 3)\n",
    "        self.fc2 = nn.Linear(3, 3)\n",
    "        self.fc3 = nn.Linear(3, 2)\n",
    "\n",
    "    def forward(self, x):\n",
    "        x = self.fc1(x)\n",
    "        x = self.fc2(x)\n",
    "        x = self.fc3(x)\n",
    "        return x\n",
    "\n",
    "net = Net()\n",
    "device = torch.device(\"cuda\") \n",
    "net = Net().to(device)\n",
    "summary(net, input_size = (1,2))\n",
    "#print(net)\n",
    "\n",
    "loss_function = nn.MSELoss()\n",
    "optimizer = optim.Adam(net.parameters(), lr=0.001)"
   ]
  },
  {
   "cell_type": "code",
   "execution_count": 8,
   "metadata": {},
   "outputs": [
    {
     "name": "stdout",
     "output_type": "stream",
     "text": [
      "(tensor([[0.3617, 0.5550],\n",
      "        [0.6755, 0.3569]], device='cuda:0'), tensor([[0.4928, 0.1233],\n",
      "        [0.5113, 0.3421]], device='cuda:0'))\n"
     ]
    }
   ],
   "source": [
    "#dummy data\n",
    "trainset = (torch.rand(2,2, device=\"cuda\"), torch.rand(2,2, device=\"cuda\")) #Xs and Ys\n",
    "print(trainset)"
   ]
  },
  {
   "cell_type": "code",
   "execution_count": 9,
   "metadata": {},
   "outputs": [
    {
     "name": "stdout",
     "output_type": "stream",
     "text": [
      "tensor(0.9716, device='cuda:0', grad_fn=<MseLossBackward>)\n",
      "tensor(0.9613, device='cuda:0', grad_fn=<MseLossBackward>)\n",
      "tensor(0.9513, device='cuda:0', grad_fn=<MseLossBackward>)\n",
      "tensor(0.9414, device='cuda:0', grad_fn=<MseLossBackward>)\n",
      "tensor(0.9317, device='cuda:0', grad_fn=<MseLossBackward>)\n",
      "tensor(0.9219, device='cuda:0', grad_fn=<MseLossBackward>)\n",
      "tensor(0.9125, device='cuda:0', grad_fn=<MseLossBackward>)\n",
      "tensor(0.9030, device='cuda:0', grad_fn=<MseLossBackward>)\n",
      "tensor(0.8937, device='cuda:0', grad_fn=<MseLossBackward>)\n",
      "tensor(0.8845, device='cuda:0', grad_fn=<MseLossBackward>)\n",
      "tensor(0.8755, device='cuda:0', grad_fn=<MseLossBackward>)\n",
      "tensor(0.8666, device='cuda:0', grad_fn=<MseLossBackward>)\n",
      "tensor(0.8579, device='cuda:0', grad_fn=<MseLossBackward>)\n",
      "tensor(0.8491, device='cuda:0', grad_fn=<MseLossBackward>)\n",
      "tensor(0.8407, device='cuda:0', grad_fn=<MseLossBackward>)\n"
     ]
    }
   ],
   "source": [
    "train = True\n",
    "epochs = 15\n",
    "if (train):\n",
    "    net.train()\n",
    "    for epoch in range(epochs):\n",
    "        for data in trainset:  \n",
    "            feature, data_label = data #\n",
    "            #print(data)\n",
    "            #print(feature)\n",
    "            #print(data_label)\n",
    "            net.zero_grad()  \n",
    "            output = net(feature.view(1,2))\n",
    "            loss = loss_function(output, data_label) \n",
    "            loss.backward() \n",
    "            optimizer.step() \n",
    "        print(loss)\n"
   ]
  },
  {
   "cell_type": "code",
   "execution_count": 10,
   "metadata": {},
   "outputs": [],
   "source": [
    "#save network\n",
    "save = True\n",
    "#save = False\n",
    "model_save_path = \"2nd_NN.pt\"\n",
    "if (save):\n",
    "    torch.save(net, model_save_path)"
   ]
  }
 ],
 "metadata": {
  "interpreter": {
   "hash": "58dc188af903f85495c8c8ba2d08d4f5901f4034aea6d9dbb2f8641074b88212"
  },
  "kernelspec": {
   "display_name": "Python 3.9.6 64-bit ('191T_py3': venv)",
   "name": "python3"
  },
  "language_info": {
   "codemirror_mode": {
    "name": "ipython",
    "version": 3
   },
   "file_extension": ".py",
   "mimetype": "text/x-python",
   "name": "python",
   "nbconvert_exporter": "python",
   "pygments_lexer": "ipython3",
   "version": "3.9.6"
  },
  "orig_nbformat": 4
 },
 "nbformat": 4,
 "nbformat_minor": 2
}

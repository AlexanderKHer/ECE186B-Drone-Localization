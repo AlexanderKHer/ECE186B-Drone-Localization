{
 "cells": [
  {
   "cell_type": "code",
   "execution_count": null,
   "metadata": {},
   "outputs": [],
   "source": [
    "import torch\n",
    "import torch.nn as nn\n",
    "import torch.nn.functional as F\n",
    "import torch.optim as optim\n",
    "from torch.utils.data import Dataset, DataLoader\n",
    "from torchsummary import summary\n",
    "import csv\n",
    "import numpy as np\n",
    "import SD2_Model as SD"
   ]
  },
  {
   "cell_type": "code",
   "execution_count": null,
   "metadata": {},
   "outputs": [],
   "source": [
    "\n",
    "#net = SD.Net()\n",
    "device = torch.device(\"cuda\") \n",
    "net = SD.Net().to(device)\n",
    "summary(net, input_size = (1,2))\n",
    "#print(net)\n",
    "\n",
    "loss_function = nn.MSELoss()\n",
    "optimizer = optim.Adam(net.parameters(), lr=0.0001)"
   ]
  },
  {
   "cell_type": "code",
   "execution_count": null,
   "metadata": {},
   "outputs": [],
   "source": [
    "#dummy data\n",
    "#trainset = (torch.rand(2,1, device=\"cuda\"), torch.rand(2,1, device=\"cuda\") ) #Xs and Ys\n",
    "trainset = torch.tensor([[1,2],[3,4]]).to(device)\n",
    "print(trainset)"
   ]
  },
  {
   "cell_type": "code",
   "execution_count": null,
   "metadata": {},
   "outputs": [],
   "source": [
    "#data = np.loadtxt('../Datasets/2NN_all_dataset.csv' ,delimiter=',', dtype=np.float32)\n",
    "#print(data.shape[0])\n",
    "\n",
    "class Coordinates_Dataset(Dataset):\n",
    "    def __init__(self):\n",
    "        #load data\n",
    "        data = np.loadtxt('../Datasets/2NN_all_dataset.csv' ,delimiter=',', dtype=np.float32)\n",
    "        #feature, data_label = data\n",
    "        self.feature = torch.from_numpy(data[:,0:2]).to(device)\n",
    "        self.data_label = torch.from_numpy(data[:,2:4] * 100).to(device) #convert meters to cm\n",
    "        self.num_samples = data.shape[0]\n",
    "\n",
    "    def __getitem__(self,index):\n",
    "        #get data\n",
    "        #print(\"index: \",index)\n",
    "        return self.feature[index],self.data_label[index]\n",
    "\n",
    "\n",
    "    def __len__(self):\n",
    "        #len(data)\n",
    "        return self.num_samples\n",
    "\n",
    "dataset = Coordinates_Dataset()\n",
    "feature, label = dataset[0]\n",
    "print(feature, label)\n",
    "trainset = DataLoader(dataset=dataset, batch_size=200, shuffle=True)\n",
    "#data_iter = iter(trainset)\n",
    "#print(type(data_iter))\n",
    "#data = data_iter.next()\n",
    "#print(data)\n",
    "\n",
    "## Old data loader\n",
    "Load_data = False\n",
    "dataset_path = \"../Datasets/2NN_dataset_flight.3.csv\"\n",
    "if(Load_data):\n",
    "    trainset = []\n",
    "    with open(dataset_path) as csv_file:\n",
    "        csv_reader = csv.reader(csv_file, delimiter=',')\n",
    "        for row in csv_reader:\n",
    "            #feature, data_label = int(row[0:2]),row[2:4]\n",
    "            feature, data_label = (int(row[0]),int(row[1])),(float(row[2]) * 100 ,float(row[3]) * 100) #convert to cm\n",
    "            #feature, data_label = (int(row[0]),int(row[1])),(round(float(row[2]) * 100) ,round(float(row[3]) * 100)) #convert to cm\n",
    "            trainset.append([feature, data_label])\n",
    "            #print([feature, data_label])\n",
    "    trainset = torch.Tensor(trainset).to(device)\n",
    "    #print(trainset)\n",
    "\n",
    "test_data = False\n",
    "if(test_data):\n",
    "    feature, data_label = trainset[0]\n",
    "    print(feature, data_label)\n",
    "    #print(feature.view(1,2))\n",
    "    output = net(feature)\n",
    "    print(output)\n"
   ]
  },
  {
   "cell_type": "code",
   "execution_count": null,
   "metadata": {},
   "outputs": [],
   "source": [
    "train = True\n",
    "epochs = 500\n",
    "best_loss = 0.0\n",
    "if (train):\n",
    "    net.train()\n",
    "    for epoch in range(epochs):\n",
    "        for data in trainset:  \n",
    "            feature, data_label = data #\n",
    "            #print(data)\n",
    "            #print(feature)\n",
    "            #print(data_label)\n",
    "            net.zero_grad()  \n",
    "            output = net(feature)\n",
    "            loss = loss_function(output, data_label) \n",
    "            loss.backward() \n",
    "            optimizer.step() \n",
    "        print(epoch,loss)\n",
    "        if(epoch == 1):\n",
    "            best_loss = loss.item()\n",
    "        if(False):\n",
    "        #if(loss.item() < best_loss or loss.item() < 1.0):\n",
    "            best_loss = loss.item()\n",
    "            best_save = \"./models_saves/best_2nd_NN_\"\n",
    "            torch.save(net, best_save + str(epoch) + \"_\" + str(round(best_loss,5)) +\".pt\")\n",
    "    print(best_loss)"
   ]
  },
  {
   "cell_type": "code",
   "execution_count": null,
   "metadata": {},
   "outputs": [],
   "source": [
    "#save network\n",
    "save = True\n",
    "save = False\n",
    "model_save_path = \"2nd_NN.pt\"\n",
    "if (save):\n",
    "    torch.save(net, model_save_path)"
   ]
  },
  {
   "cell_type": "code",
   "execution_count": null,
   "metadata": {},
   "outputs": [],
   "source": [
    "#test evaluate\n",
    "\n",
    "Load_eval = False\n",
    "if(Load_eval):\n",
    "    #model = SD.Net().to(device)\n",
    "    net = torch.load(model_save_path)\n",
    "    net.eval()\n",
    "\n",
    "dataset_path = \"../2NN_dataset_flight.2.csv\"\n",
    "if(False):\n",
    "    net.eval()\n",
    "    eval_data = []\n",
    "    with open(dataset_path) as csv_file:\n",
    "        csv_reader = csv.reader(csv_file, delimiter=',')\n",
    "        for row in csv_reader:\n",
    "            #feature, data_label = int(row[0:2]),row[2:4]\n",
    "            feature, data_label = (int(row[0]),int(row[1])),(float(row[2]) * 100 ,float(row[3]) * 100) #convert to cm\n",
    "            #feature, data_label = (int(row[0]),int(row[1])),(round(float(row[2]) * 100) ,round(float(row[3]) * 100)) #convert to cm\n",
    "            net(feature)\n",
    "            eval_data.append([feature, data_label])\n",
    "            \n",
    "\n",
    "\n"
   ]
  }
 ],
 "metadata": {
  "interpreter": {
   "hash": "58dc188af903f85495c8c8ba2d08d4f5901f4034aea6d9dbb2f8641074b88212"
  },
  "kernelspec": {
   "display_name": "Python 3.9.6 64-bit ('191T_py3': venv)",
   "name": "python3"
  },
  "language_info": {
   "codemirror_mode": {
    "name": "ipython",
    "version": 3
   },
   "file_extension": ".py",
   "mimetype": "text/x-python",
   "name": "python",
   "nbconvert_exporter": "python",
   "pygments_lexer": "ipython3",
   "version": "3.9.6"
  },
  "orig_nbformat": 4
 },
 "nbformat": 4,
 "nbformat_minor": 2
}

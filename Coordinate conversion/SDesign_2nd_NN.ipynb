{
 "cells": [
  {
   "cell_type": "code",
   "execution_count": 11,
   "metadata": {},
   "outputs": [],
   "source": [
    "import torch\n",
    "import torch.nn as nn\n",
    "import torch.nn.functional as F\n",
    "import torch.optim as optim\n",
    "from torchsummary import summary\n",
    "import csv\n",
    "import numpy as np"
   ]
  },
  {
   "cell_type": "code",
   "execution_count": 7,
   "metadata": {},
   "outputs": [
    {
     "name": "stdout",
     "output_type": "stream",
     "text": [
      "----------------------------------------------------------------\n",
      "        Layer (type)               Output Shape         Param #\n",
      "================================================================\n",
      "            Linear-1                 [-1, 1, 3]               9\n",
      "            Linear-2                 [-1, 1, 3]              12\n",
      "            Linear-3                 [-1, 1, 2]               8\n",
      "================================================================\n",
      "Total params: 29\n",
      "Trainable params: 29\n",
      "Non-trainable params: 0\n",
      "----------------------------------------------------------------\n",
      "Input size (MB): 0.00\n",
      "Forward/backward pass size (MB): 0.00\n",
      "Params size (MB): 0.00\n",
      "Estimated Total Size (MB): 0.00\n",
      "----------------------------------------------------------------\n"
     ]
    }
   ],
   "source": [
    "class Net(nn.Module):\n",
    "    def __init__(self):\n",
    "        super().__init__()\n",
    "        self.fc1 = nn.Linear(2, 3)\n",
    "        self.fc2 = nn.Linear(3, 3)\n",
    "        self.fc3 = nn.Linear(3, 2)\n",
    "\n",
    "    def forward(self, x):\n",
    "        x = self.fc1(x)\n",
    "        x = self.fc2(x)\n",
    "        x = self.fc3(x)\n",
    "        return x\n",
    "\n",
    "net = Net()\n",
    "device = torch.device(\"cuda\") \n",
    "net = Net().to(device)\n",
    "summary(net, input_size = (1,2))\n",
    "#print(net)\n",
    "\n",
    "loss_function = nn.MSELoss()\n",
    "optimizer = optim.Adam(net.parameters(), lr=0.001)"
   ]
  },
  {
   "cell_type": "code",
   "execution_count": 28,
   "metadata": {},
   "outputs": [
    {
     "name": "stdout",
     "output_type": "stream",
     "text": [
      "tensor([[1, 2],\n",
      "        [3, 4]], device='cuda:0')\n"
     ]
    }
   ],
   "source": [
    "#dummy data\n",
    "#trainset = (torch.rand(2,1, device=\"cuda\"), torch.rand(2,1, device=\"cuda\") ) #Xs and Ys\n",
    "trainset = torch.tensor([[1,2],[3,4]]).to(device)\n",
    "print(trainset)"
   ]
  },
  {
   "cell_type": "code",
   "execution_count": 40,
   "metadata": {},
   "outputs": [
    {
     "name": "stdout",
     "output_type": "stream",
     "text": [
      "tensor([[ 2.5300e+02,  1.5400e+02],\n",
      "        [-1.0992e-02, -4.7149e-03]], device='cuda:0')\n",
      "tensor([253., 155.], device='cuda:0') tensor([-0.0084,  0.0001], device='cuda:0')\n"
     ]
    }
   ],
   "source": [
    "Load_data = True\n",
    "dataset_path = \"../2NN_dataset.csv\"\n",
    "if(Load_data):\n",
    "    trainset = []\n",
    "    with open(dataset_path) as csv_file:\n",
    "        csv_reader = csv.reader(csv_file, delimiter=',')\n",
    "        for row in csv_reader:\n",
    "            #feature, data_label = int(row[0:2]),row[2:4]\n",
    "            feature, data_label = (int(row[0]),int(row[1])),(float(row[2]),float(row[3]))\n",
    "            trainset.append([feature, data_label])\n",
    "            #print([feature, data_label])\n",
    "\n",
    "\n",
    "    #trainset = np.array(trainset)\n",
    "    trainset = torch.tensor(trainset).to(device)\n",
    "    print(trainset[1])\n",
    "    feature, data_label = trainset[0]\n",
    "    print(feature, data_label)"
   ]
  },
  {
   "cell_type": "code",
   "execution_count": 42,
   "metadata": {},
   "outputs": [
    {
     "name": "stdout",
     "output_type": "stream",
     "text": [
      "tensor(0.0039, device='cuda:0', grad_fn=<MseLossBackward>)\n",
      "tensor(0.0028, device='cuda:0', grad_fn=<MseLossBackward>)\n",
      "tensor(0.0022, device='cuda:0', grad_fn=<MseLossBackward>)\n",
      "tensor(0.0018, device='cuda:0', grad_fn=<MseLossBackward>)\n",
      "tensor(0.0016, device='cuda:0', grad_fn=<MseLossBackward>)\n",
      "tensor(0.0012, device='cuda:0', grad_fn=<MseLossBackward>)\n",
      "tensor(0.0007, device='cuda:0', grad_fn=<MseLossBackward>)\n",
      "tensor(0.0004, device='cuda:0', grad_fn=<MseLossBackward>)\n",
      "tensor(0.0002, device='cuda:0', grad_fn=<MseLossBackward>)\n",
      "tensor(0.0001, device='cuda:0', grad_fn=<MseLossBackward>)\n",
      "tensor(6.8592e-05, device='cuda:0', grad_fn=<MseLossBackward>)\n",
      "tensor(9.5831e-05, device='cuda:0', grad_fn=<MseLossBackward>)\n",
      "tensor(0.0001, device='cuda:0', grad_fn=<MseLossBackward>)\n",
      "tensor(7.0725e-05, device='cuda:0', grad_fn=<MseLossBackward>)\n",
      "tensor(7.4475e-05, device='cuda:0', grad_fn=<MseLossBackward>)\n"
     ]
    }
   ],
   "source": [
    "train = True\n",
    "epochs = 15\n",
    "if (train):\n",
    "    net.train()\n",
    "    for epoch in range(epochs):\n",
    "        for data in trainset:  \n",
    "            feature, data_label = data #\n",
    "            #print(data)\n",
    "            #print(feature)\n",
    "            #print(data_label)\n",
    "            net.zero_grad()  \n",
    "            output = net(feature.view(1,2))\n",
    "            loss = loss_function(output, data_label) \n",
    "            loss.backward() \n",
    "            optimizer.step() \n",
    "        print(loss)\n"
   ]
  },
  {
   "cell_type": "code",
   "execution_count": 10,
   "metadata": {},
   "outputs": [],
   "source": [
    "#save network\n",
    "save = True\n",
    "#save = False\n",
    "model_save_path = \"2nd_NN.pt\"\n",
    "if (save):\n",
    "    torch.save(net, model_save_path)"
   ]
  }
 ],
 "metadata": {
  "interpreter": {
   "hash": "58dc188af903f85495c8c8ba2d08d4f5901f4034aea6d9dbb2f8641074b88212"
  },
  "kernelspec": {
   "display_name": "Python 3.9.6 64-bit ('191T_py3': venv)",
   "name": "python3"
  },
  "language_info": {
   "codemirror_mode": {
    "name": "ipython",
    "version": 3
   },
   "file_extension": ".py",
   "mimetype": "text/x-python",
   "name": "python",
   "nbconvert_exporter": "python",
   "pygments_lexer": "ipython3",
   "version": "3.9.6"
  },
  "orig_nbformat": 4
 },
 "nbformat": 4,
 "nbformat_minor": 2
}

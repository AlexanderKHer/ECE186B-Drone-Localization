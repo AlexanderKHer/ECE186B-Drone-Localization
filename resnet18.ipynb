{
 "cells": [
  {
   "cell_type": "markdown",
   "id": "1de89f5d",
   "metadata": {},
   "source": [
    "# Start by importing our libraries and the model \n",
    "\n",
    "### A pre-trained resnet18 model will be used. "
   ]
  },
  {
   "cell_type": "code",
   "execution_count": 5,
   "id": "6e1f4f60",
   "metadata": {},
   "outputs": [
    {
     "name": "stderr",
     "output_type": "stream",
     "text": [
      "Downloading: \"https://download.pytorch.org/models/resnet18-f37072fd.pth\" to C:\\Users\\Alex/.cache\\torch\\hub\\checkpoints\\resnet18-f37072fd.pth\n"
     ]
    },
    {
     "data": {
      "application/vnd.jupyter.widget-view+json": {
       "model_id": "0940c60011004ad1a9e89702b9efa18f",
       "version_major": 2,
       "version_minor": 0
      },
      "text/plain": [
       "  0%|          | 0.00/44.7M [00:00<?, ?B/s]"
      ]
     },
     "metadata": {},
     "output_type": "display_data"
    }
   ],
   "source": [
    "import torch \n",
    "import torchvision.models as models\n",
    "resnet18 = models.resnet18(pretrained=True); "
   ]
  },
  {
   "cell_type": "code",
   "execution_count": null,
   "id": "053d04ce",
   "metadata": {},
   "outputs": [],
   "source": []
  }
 ],
 "metadata": {
  "kernelspec": {
   "display_name": "Python 3",
   "language": "python",
   "name": "python3"
  },
  "language_info": {
   "codemirror_mode": {
    "name": "ipython",
    "version": 3
   },
   "file_extension": ".py",
   "mimetype": "text/x-python",
   "name": "python",
   "nbconvert_exporter": "python",
   "pygments_lexer": "ipython3",
   "version": "3.8.8"
  }
 },
 "nbformat": 4,
 "nbformat_minor": 5
}

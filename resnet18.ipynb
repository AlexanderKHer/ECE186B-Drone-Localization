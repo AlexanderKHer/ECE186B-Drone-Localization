{
 "cells": [
  {
   "cell_type": "markdown",
   "id": "ced78e5e",
   "metadata": {},
   "source": [
    "# Start by importing our libraries and the model \n",
    "\n",
    "### A pre-trained resnet18 model will be used. Some of the code used is referenced from the Pytorch examples github repository. "
   ]
  },
  {
   "cell_type": "code",
   "execution_count": 8,
   "id": "f8bc519a",
   "metadata": {},
   "outputs": [],
   "source": [
    "import argparse\n",
    "import os\n",
    "import shutil\n",
    "import time\n",
    "\n",
    "import torch\n",
    "import torch.nn as nn\n",
    "import torch.nn.parallel\n",
    "import torch.backends.cudnn as cudnn\n",
    "import torch.optim\n",
    "import torch.utils.data\n",
    "import torchvision.transforms as transforms\n",
    "import torchvision.datasets as datasets\n",
    "import torchvision.models as models\n",
    "\n",
    "resnet18 = models.resnet18(pretrained=True); \n",
    "\n"
   ]
  },
  {
   "cell_type": "markdown",
   "id": "03628b23",
   "metadata": {},
   "source": [
    "#### Setting up directories for training"
   ]
  },
  {
   "cell_type": "code",
   "execution_count": null,
   "id": "e4c68d86",
   "metadata": {},
   "outputs": [],
   "source": [
    "train_dir = 'train' \n",
    "valid_dir = 'validation'\n",
    "test_dir = 'test'\n",
    "\n",
    "dirs = { \n",
    "            'train': train_dir, \n",
    "            'validation': valid_dir, \n",
    "            'test': test_dir\n",
    "        \n",
    "}"
   ]
  },
  {
   "cell_type": "markdown",
   "id": "21d4dce2",
   "metadata": {},
   "source": [
    "#### All images have to be normalizaed in the same way. Images are loaded in a range of [0,1] and then normalizaed using the code below. "
   ]
  },
  {
   "cell_type": "code",
   "execution_count": null,
   "id": "c07a16e5",
   "metadata": {},
   "outputs": [],
   "source": [
    "\n",
    "normalize = transforms.Normalize(mean=[0.485, 0.456, 0.406],\n",
    "                                 std=[0.229, 0.224, 0.225])\n",
    "\n"
   ]
  }
 ],
 "metadata": {
  "kernelspec": {
   "display_name": "Python 3",
   "language": "python",
   "name": "python3"
  },
  "language_info": {
   "codemirror_mode": {
    "name": "ipython",
    "version": 3
   },
   "file_extension": ".py",
   "mimetype": "text/x-python",
   "name": "python",
   "nbconvert_exporter": "python",
   "pygments_lexer": "ipython3",
   "version": "3.8.8"
  }
 },
 "nbformat": 4,
 "nbformat_minor": 5
}

{
 "cells": [
  {
   "cell_type": "markdown",
   "id": "f0e5de88",
   "metadata": {},
   "source": [
    "# Start by importing our libraries and the model that we are using\n",
    "\n",
    "### we are going to be using a pre-trained resnet18 model for our calculations. "
   ]
  },
  {
   "cell_type": "code",
   "execution_count": 5,
   "id": "9601c5be",
   "metadata": {},
   "outputs": [
    {
     "name": "stderr",
     "output_type": "stream",
     "text": [
      "Downloading: \"https://download.pytorch.org/models/resnet18-f37072fd.pth\" to C:\\Users\\Alex/.cache\\torch\\hub\\checkpoints\\resnet18-f37072fd.pth\n"
     ]
    },
    {
     "data": {
      "application/vnd.jupyter.widget-view+json": {
       "model_id": "0940c60011004ad1a9e89702b9efa18f",
       "version_major": 2,
       "version_minor": 0
      },
      "text/plain": [
       "  0%|          | 0.00/44.7M [00:00<?, ?B/s]"
      ]
     },
     "metadata": {},
     "output_type": "display_data"
    }
   ],
   "source": [
    "import torch \n",
    "import torchvision.models as models\n",
    "resnet18 = models.resnet18(pretrained=True); "
   ]
  },
  {
   "cell_type": "code",
   "execution_count": null,
   "id": "e5c7d1e5",
   "metadata": {},
   "outputs": [],
   "source": []
  }
 ],
 "metadata": {
  "kernelspec": {
   "display_name": "Python 3",
   "language": "python",
   "name": "python3"
  },
  "language_info": {
   "codemirror_mode": {
    "name": "ipython",
    "version": 3
   },
   "file_extension": ".py",
   "mimetype": "text/x-python",
   "name": "python",
   "nbconvert_exporter": "python",
   "pygments_lexer": "ipython3",
   "version": "3.8.8"
  }
 },
 "nbformat": 4,
 "nbformat_minor": 5
}
